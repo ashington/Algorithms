{
 "cells": [
  {
   "cell_type": "code",
   "execution_count": 29,
   "metadata": {
    "collapsed": true
   },
   "outputs": [
    {
     "name": "stdout",
     "output_type": "stream",
     "text": [
      "[6, 5, 4, 3, 2, 1]\n"
     ]
    }
   ],
   "source": [
    "# Reversing a list --> Method 1: Using for loop\n",
    "\n",
    "a = [1,2,3,4,5,6]\n",
    "l = len(a) - 1\n",
    "b = []\n",
    "for i in range(0,len(a)):\n",
    "    b.append(a[l])\n",
    "    l = l -1\n",
    "\n",
    "print(b)"
   ]
  },
  {
   "cell_type": "code",
   "execution_count": 30,
   "metadata": {
    "collapsed": true
   },
   "outputs": [
    {
     "data": {
      "text/plain": [
       "[6, 5, 4, 3, 2, 1]"
      ]
     },
     "execution_count": 30,
     "metadata": {},
     "output_type": "execute_result"
    }
   ],
   "source": [
    "# Reversing a list --> Method 2: Using Slicing Method\n",
    "# In this technique, a copy of the list is made and the list is not \n",
    "# sorted in-place. Creating a copy requires more space to hold all \n",
    "# of the existing elements. This exhausts more memory.\n",
    "\n",
    "a = [1,2,3,4,5,6]\n",
    "reverse = a[::-1]\n",
    "reverse"
   ]
  },
  {
   "cell_type": "code",
   "execution_count": 32,
   "metadata": {
    "collapsed": true
   },
   "outputs": [
    {
     "name": "stdout",
     "output_type": "stream",
     "text": [
      "[6, 5, 4, 3, 2, 1]\n"
     ]
    }
   ],
   "source": [
    "# Reversing a list --> Method 3: Using Reversed Method\n",
    "# # In this method, we do not make any copy of the list. \n",
    "# Instead, we get a reverse iterator which we use to cycle through the list\n",
    "\n",
    "a = [1,2,3,4,5,6]\n",
    "b = []\n",
    "for i in reversed(a):\n",
    "    b.append(i)\n",
    "print(b)"
   ]
  },
  {
   "cell_type": "code",
   "execution_count": 63,
   "metadata": {},
   "outputs": [
    {
     "data": {
      "text/plain": [
       "[6, 5, 4, 3, 2, 1]"
      ]
     },
     "execution_count": 63,
     "metadata": {},
     "output_type": "execute_result"
    }
   ],
   "source": [
    "# Reversing a list --> Method 4: Using \"Reverse\" Method\n",
    "# Using the reverse() method we can reverse the contents of the list object \n",
    "# in-place i.e., we don’t need to create a new list instead we just copy the \n",
    "# existing elements to the original list in reverse order.\n",
    "# This method directly modifies the original list.\n",
    "\n",
    "a = [1,2,3,4,5,6]\n",
    "a.reverse()\n",
    "a"
   ]
  },
  {
   "cell_type": "code",
   "execution_count": 71,
   "metadata": {},
   "outputs": [
    {
     "data": {
      "text/plain": [
       "[9, 8, 7, 6, 5, 4, 3, 2, 1]"
      ]
     },
     "execution_count": 71,
     "metadata": {},
     "output_type": "execute_result"
    }
   ],
   "source": [
    "# Reversing a list --> Method 5: Using List Comprehension Method\n",
    "\n",
    "aa = [1,2,3,4,5,6,7,8,9]\n",
    "aa = [i for i in reversed(aa)]\n",
    "aa"
   ]
  },
  {
   "cell_type": "code",
   "execution_count": 57,
   "metadata": {},
   "outputs": [
    {
     "data": {
      "text/plain": [
       "(6, 5, 4, 3, 2, 1)"
      ]
     },
     "execution_count": 57,
     "metadata": {},
     "output_type": "execute_result"
    }
   ],
   "source": [
    "# Reversing a Tuple --> Method 1: Using Slicing Method\n",
    "# In this technique, a copy of the tuple is made and the tuple is not sorted in-place. \n",
    "# Since tuples are immutable, there is no way to reverse a tuple in-place. \n",
    "# Creating a copy requires more space to hold all of the existing elements. \n",
    "# Therefore, this exhausts memory.\n",
    "\n",
    "\n",
    "t = (1,2,3,4,5,6)\n",
    "reverse = t[::-1]\n",
    "reverse"
   ]
  },
  {
   "cell_type": "code",
   "execution_count": 59,
   "metadata": {},
   "outputs": [
    {
     "name": "stdout",
     "output_type": "stream",
     "text": [
      "[6, 5, 4, 3, 2, 1]\n"
     ]
    }
   ],
   "source": [
    "# Reversing a Tuple --> Method 2: Using for loop and storing the output in a list\n",
    "\n",
    "t = (1,2,3,4,5,6)\n",
    "p = len(t) - 1\n",
    "b=[]\n",
    "for i in range(0,len(t)):\n",
    "    b.append(t[p])\n",
    "    p = p-1\n",
    "print(b)"
   ]
  },
  {
   "cell_type": "code",
   "execution_count": 61,
   "metadata": {},
   "outputs": [
    {
     "name": "stdout",
     "output_type": "stream",
     "text": [
      "[6, 5, 4, 3, 2, 1]\n"
     ]
    }
   ],
   "source": [
    "# Reversing a list --> Method 3: Using Reversed Method\n",
    "# In this method, we do not make any copy of the tuple. \n",
    "# Instead, we get a reverse iterator which we use to cycle through the tuple, similar to the list.\n",
    "\n",
    "t = (1,2,3,4,5,6)\n",
    "b=[]\n",
    "for i  in reversed(t):\n",
    "    b.append(i)\n",
    "print(b)"
   ]
  },
  {
   "cell_type": "code",
   "execution_count": 70,
   "metadata": {
    "collapsed": true
   },
   "outputs": [
    {
     "data": {
      "text/plain": [
       "{1: 'a', 2: 'b', 3: 'c'}"
      ]
     },
     "execution_count": 70,
     "metadata": {},
     "output_type": "execute_result"
    }
   ],
   "source": [
    "# Reversing a Dictionary --> Method 1: Using Dictionary comprehension\n",
    "\n",
    "d = {'a':1,'b':2,'c':3}\n",
    "d ={v:k for k,v in d.items()}\n",
    "d"
   ]
  },
  {
   "cell_type": "code",
   "execution_count": 72,
   "metadata": {},
   "outputs": [
    {
     "data": {
      "text/plain": [
       "{1: 'a', 2: 'b', 3: 'c'}"
      ]
     },
     "execution_count": 72,
     "metadata": {},
     "output_type": "execute_result"
    }
   ],
   "source": [
    "# Reversing a Dictionary --> Method 2: Using dict.keys() and dict.values()\n",
    "\n",
    "e = {'a':1,'b':2,'c':3}\n",
    "reverse_e = dict(zip(e.values(),e.keys()))\n",
    "reverse_e"
   ]
  },
  {
   "cell_type": "code",
   "execution_count": 73,
   "metadata": {},
   "outputs": [
    {
     "data": {
      "text/plain": [
       "{1: 'a', 2: 'b', 3: 'c'}"
      ]
     },
     "execution_count": 73,
     "metadata": {},
     "output_type": "execute_result"
    }
   ],
   "source": [
    "# Reversing a Dictionary --> Method 3: Using map() and reversed\n",
    "\n",
    "e = {'a':1,'b':2,'c':3}\n",
    "reverse_e = dict(map(reversed, e.items()))\n",
    "reverse_e"
   ]
  },
  {
   "cell_type": "code",
   "execution_count": 89,
   "metadata": {},
   "outputs": [
    {
     "data": {
      "text/plain": [
       "{'a': 1, 'b': 2, 'c': 3}"
      ]
     },
     "execution_count": 89,
     "metadata": {},
     "output_type": "execute_result"
    }
   ],
   "source": [
    "# Reversing a Dictionary --> Method 4: Using lambda\n",
    "\n",
    "e = {'a':1,'b':2,'c':3}\n",
    "reverse_e = dict(sorted(e.items(), key=lambda x: x[1]))\n",
    "reverse_e"
   ]
  }
 ],
 "metadata": {
  "kernelspec": {
   "display_name": "Python 3",
   "language": "python",
   "name": "python3"
  },
  "language_info": {
   "codemirror_mode": {
    "name": "ipython",
    "version": 3
   },
   "file_extension": ".py",
   "mimetype": "text/x-python",
   "name": "python",
   "nbconvert_exporter": "python",
   "pygments_lexer": "ipython3",
   "version": "3.8.5"
  }
 },
 "nbformat": 4,
 "nbformat_minor": 4
}
