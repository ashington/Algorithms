{
 "cells": [
  {
   "cell_type": "markdown",
   "metadata": {},
   "source": [
    "# Write a program to display first 'n' Fibonacci numbers "
   ]
  },
  {
   "cell_type": "code",
   "execution_count": 20,
   "metadata": {},
   "outputs": [
    {
     "name": "stdout",
     "output_type": "stream",
     "text": [
      "Input number so as to calculate the first n fibonacci numbers: 5\n",
      "0\n",
      "1\n",
      "1\n",
      "2\n",
      "3\n"
     ]
    }
   ],
   "source": [
    "# A Fibonacci number at nth position is equal to sum of elements at (n-1) and (n-2)\n",
    "# eg --> 0,1,1,2,3,5,8,13 and so on\n",
    "# Therefore to calculate the fibonacci number at nth position, we first\n",
    "# define the 1st and the 2nd fibonacci number so that we can calculate forward\n",
    "\n",
    "n = int(input(\"Input number so as to calculate the first n fibonacci numbers: \"))\n",
    "\n",
    "first = 0\n",
    "second = 1\n",
    "\n",
    "if n ==1:\n",
    "    print(first)\n",
    "    \n",
    "elif n ==2:\n",
    "    print(first)\n",
    "    print(second)\n",
    "    \n",
    "elif n>2:\n",
    "    print(first)\n",
    "    print(second)\n",
    "    for i in range(1,n-1):\n",
    "        third = first+second\n",
    "        first = second\n",
    "        second = third\n",
    "        print(third)"
   ]
  },
  {
   "cell_type": "markdown",
   "metadata": {},
   "source": [
    "# Write a program to just display the Fibonacci number at the nth position"
   ]
  },
  {
   "cell_type": "code",
   "execution_count": 28,
   "metadata": {},
   "outputs": [
    {
     "name": "stdout",
     "output_type": "stream",
     "text": [
      "Input position so as to calculate the fibonacci number at that position: 4\n",
      "2\n",
      "0:00:01.251426\n"
     ]
    }
   ],
   "source": [
    "import datetime\n",
    "begin_time = datetime.datetime.now()\n",
    "n = int(input(\"Input position so as to calculate the fibonacci number at that position: \"))\n",
    "\n",
    "first = 0\n",
    "second = 1\n",
    "\n",
    "if n ==1:\n",
    "    print(first)\n",
    "    \n",
    "elif n ==2:\n",
    "    print(first)\n",
    "    print(second)\n",
    "    \n",
    "elif n>2:\n",
    "    for i in range(1,n-1):\n",
    "        third = first+second\n",
    "        first = second\n",
    "        second = third\n",
    "    print(third)\n",
    "end_time = datetime.datetime.now()\n",
    "dif = end_time - begin_time\n",
    "print(dif)"
   ]
  }
 ],
 "metadata": {
  "kernelspec": {
   "display_name": "Python 3",
   "language": "python",
   "name": "python3"
  },
  "language_info": {
   "codemirror_mode": {
    "name": "ipython",
    "version": 3
   },
   "file_extension": ".py",
   "mimetype": "text/x-python",
   "name": "python",
   "nbconvert_exporter": "python",
   "pygments_lexer": "ipython3",
   "version": "3.8.5"
  }
 },
 "nbformat": 4,
 "nbformat_minor": 4
}
