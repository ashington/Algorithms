{
 "cells": [
  {
   "cell_type": "code",
   "execution_count": 7,
   "metadata": {},
   "outputs": [
    {
     "name": "stdout",
     "output_type": "stream",
     "text": [
      "Values before swapping: 1498 7854\n",
      "Values after swapping: 7854 1498\n"
     ]
    }
   ],
   "source": [
    "# Swapping 2 variables --> Method 1\n",
    "\n",
    "a = 1498\n",
    "b = 7854\n",
    "\n",
    "print(\"Values before swapping:\",a,b)\n",
    "\n",
    "b = a+b\n",
    "\n",
    "a = b-a\n",
    "\n",
    "b = b-a\n",
    "\n",
    "print(\"Values after swapping:\",a,b)"
   ]
  },
  {
   "cell_type": "code",
   "execution_count": 8,
   "metadata": {},
   "outputs": [
    {
     "name": "stdout",
     "output_type": "stream",
     "text": [
      "Values before swapping: 1498 7854\n",
      "Values after swapping: 7854 1498\n"
     ]
    }
   ],
   "source": [
    "# Swapping 2 variables --> Method 2\n",
    "\n",
    "a = 1498\n",
    "b = 7854\n",
    "\n",
    "print(\"Values before swapping:\",a,b)\n",
    "\n",
    "a,b = b,a\n",
    "\n",
    "print(\"Values after swapping:\",a,b)"
   ]
  },
  {
   "cell_type": "code",
   "execution_count": 10,
   "metadata": {},
   "outputs": [
    {
     "name": "stdout",
     "output_type": "stream",
     "text": [
      "Values before swapping: 1498 7854\n",
      "Values after swapping: 7854 1498\n"
     ]
    }
   ],
   "source": [
    "# Swapping 2 variables --> Method 3 \n",
    "\n",
    "a = 1498\n",
    "b = 7854\n",
    "\n",
    "print(\"Values before swapping:\",a,b)\n",
    "\n",
    "b = a*b\n",
    "\n",
    "a = b//a    # Floor division (//) - division that results into whole number adjusted to the left in the number line\n",
    "\n",
    "b = b//a    # Floor division (//) - division that results into whole number adjusted to the left in the number line\n",
    "\n",
    "print(\"Values after swapping:\",a,b)"
   ]
  }
 ],
 "metadata": {
  "kernelspec": {
   "display_name": "Python 3",
   "language": "python",
   "name": "python3"
  },
  "language_info": {
   "codemirror_mode": {
    "name": "ipython",
    "version": 3
   },
   "file_extension": ".py",
   "mimetype": "text/x-python",
   "name": "python",
   "nbconvert_exporter": "python",
   "pygments_lexer": "ipython3",
   "version": "3.8.5"
  }
 },
 "nbformat": 4,
 "nbformat_minor": 4
}
