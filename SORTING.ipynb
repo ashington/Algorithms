{
 "cells": [
  {
   "cell_type": "markdown",
   "metadata": {},
   "source": [
    "# Sorting can be used to solve a range of problems that coders generally face:\n",
    "\n",
    "## 1.) Searching for Items: Sorting a list before searching for a particular entry saves considerable time.\n",
    "## 2.) Finding Duplicates: Similarly, sorting also makes it easy to quickly sift through lists and find duplicates, improving the quality of data.\n",
    "## 3.) Selecting Items: Sorted lists (such as in ascending or descending orders) are always better precursors for data selection.\n",
    "## 4.) Analyzing Distribution Frequency: Similarly, determining the frequency of a particular data set on a list is much quicker with sorting since both searching and selection are now faster."
   ]
  },
  {
   "cell_type": "markdown",
   "metadata": {},
   "source": [
    "## Method 1: Using Python's in built sorted() function"
   ]
  },
  {
   "cell_type": "code",
   "execution_count": 3,
   "metadata": {},
   "outputs": [
    {
     "data": {
      "text/plain": [
       "[1, 2, 3, 4, 5, 6, 7, 8, 9]"
      ]
     },
     "execution_count": 3,
     "metadata": {},
     "output_type": "execute_result"
    }
   ],
   "source": [
    "a = [9,7,8,6,4,5,3,1,2]\n",
    "b = sorted(a)\n",
    "b"
   ]
  },
  {
   "cell_type": "markdown",
   "metadata": {},
   "source": [
    "## Method 2: Bubble Sort\n",
    "### One of the basic sorting algorithms, Bubble Sort compares adjacent entries in a list \n",
    "### and keeps swapping them until they are in the correct order. \n",
    "### To achieve this, the algorithm continuously passes through unsorted sections of lists. \n",
    "### This essentially means that once the algorithm reaches the end of the list (n) it starts over\n",
    "### and repeats itself up until the second last element (n-1).\n",
    "\n",
    "### The time complexity of this type of sort comes out to be O(n^2). This is because if there are n items in the array (list), there would be n iterations per item."
   ]
  },
  {
   "cell_type": "code",
   "execution_count": 6,
   "metadata": {},
   "outputs": [
    {
     "name": "stdout",
     "output_type": "stream",
     "text": [
      "[1, 2, 3, 4, 5, 6, 7, 8, 9]\n",
      "[9, 8, 7, 6, 5, 4, 3, 2, 1]\n"
     ]
    }
   ],
   "source": [
    "##### Arranging the list in Ascending Order\n",
    "\n",
    "a = [9,7,8,6,4,5,3,1,2]\n",
    "\n",
    "for i in range(0,len(a)):\n",
    "    for j in range(0,len(a)-1):\n",
    "        if a[i]<a[j]:\n",
    "            temp = a[j]\n",
    "            a[j]=a[i]\n",
    "            a[i]=temp\n",
    "print(a)\n",
    "\n",
    "##### Arranging the list in Descending Order\n",
    "\n",
    "b = [9,7,8,6,4,5,3,1,2]\n",
    "\n",
    "for i in range(0,len(b)):\n",
    "    for j in range(0,len(b)-1):\n",
    "        if b[i]>b[j]:\n",
    "            temp = b[j]\n",
    "            b[j]=b[i]\n",
    "            b[i]=temp\n",
    "print(b)"
   ]
  },
  {
   "cell_type": "markdown",
   "metadata": {},
   "source": [
    "## Method 3: Insertion Sort\n",
    "### Instead of approaching the list head-on, the Insertion Sort segments the list into two sections - sorted and unsorted. \n",
    "### The idea is to just iterate through the unsorted section and insert every list item into their correct position in the sorted list. Hence, the sorted list keeps increasing in size until all elements are sorted.\n"
   ]
  },
  {
   "cell_type": "code",
   "execution_count": 16,
   "metadata": {},
   "outputs": [
    {
     "name": "stdout",
     "output_type": "stream",
     "text": [
      "[9, 89, 98, 99, 544, 785, 999, 7895, 52121]\n"
     ]
    }
   ],
   "source": [
    "a = [9,99,999,98,7895,785,89,52121,544]\n",
    "for i in range(1,len(a)):\n",
    "    key = a[i]\n",
    "    j = i-1\n",
    "    while a[j]>key and j>=0:\n",
    "        a[j+1]=a[j]\n",
    "        a[j]=key\n",
    "        j = j-1\n",
    "print(a)"
   ]
  }
 ],
 "metadata": {
  "kernelspec": {
   "display_name": "Python 3",
   "language": "python",
   "name": "python3"
  },
  "language_info": {
   "codemirror_mode": {
    "name": "ipython",
    "version": 3
   },
   "file_extension": ".py",
   "mimetype": "text/x-python",
   "name": "python",
   "nbconvert_exporter": "python",
   "pygments_lexer": "ipython3",
   "version": "3.8.5"
  }
 },
 "nbformat": 4,
 "nbformat_minor": 4
}
