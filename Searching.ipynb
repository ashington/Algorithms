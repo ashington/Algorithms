{
 "cells": [
  {
   "cell_type": "markdown",
   "metadata": {},
   "source": [
    "## Method 1\n",
    "#### In Python, the easiest way to search for an object is to use Membership Operators - named that way because they allow us to determine whether a given object is a member in a collection.\n",
    "\n",
    "#### These operators can be used with any iterable data structure in Python, including Strings, Lists, and Tuples.\n",
    "\n",
    "#### in ---------> Returns True if the given element is a part of the structure.\n",
    "#### not in ----> Returns True if the given element is not a part of the structure."
   ]
  },
  {
   "cell_type": "code",
   "execution_count": 2,
   "metadata": {},
   "outputs": [
    {
     "data": {
      "text/plain": [
       "True"
      ]
     },
     "execution_count": 2,
     "metadata": {},
     "output_type": "execute_result"
    }
   ],
   "source": [
    "# Here membership operator is searching for a particular string in a string\n",
    "'ashish' in 'ashish kumar singh'  "
   ]
  },
  {
   "cell_type": "code",
   "execution_count": 3,
   "metadata": {},
   "outputs": [
    {
     "data": {
      "text/plain": [
       "True"
      ]
     },
     "execution_count": 3,
     "metadata": {},
     "output_type": "execute_result"
    }
   ],
   "source": [
    "# Here membership operator is searching for a particular string in a list of string\n",
    "'ashish' in ['Ashish','Ashs','ashish'] "
   ]
  },
  {
   "cell_type": "code",
   "execution_count": 4,
   "metadata": {},
   "outputs": [
    {
     "data": {
      "text/plain": [
       "True"
      ]
     },
     "execution_count": 4,
     "metadata": {},
     "output_type": "execute_result"
    }
   ],
   "source": [
    "# Here membership operator is searching for a particular key in a dictionary\n",
    "'ash' in {'ashish':100,'ashi':1000,'ash':10000}"
   ]
  },
  {
   "cell_type": "code",
   "execution_count": 5,
   "metadata": {},
   "outputs": [
    {
     "data": {
      "text/plain": [
       "False"
      ]
     },
     "execution_count": 5,
     "metadata": {},
     "output_type": "execute_result"
    }
   ],
   "source": [
    "# Here membership operator is searching for a particular string in a string to see if it is not present in that\n",
    "'ashish' not in 'ashish kumar singh'  "
   ]
  },
  {
   "cell_type": "code",
   "execution_count": 6,
   "metadata": {},
   "outputs": [
    {
     "data": {
      "text/plain": [
       "False"
      ]
     },
     "execution_count": 6,
     "metadata": {},
     "output_type": "execute_result"
    }
   ],
   "source": [
    "# Here membership operator is searching for a particular string in a list of string to see if it is not present in that\n",
    "'ashish' not in ['Ashish','Ashs','ashish'] "
   ]
  },
  {
   "cell_type": "markdown",
   "metadata": {},
   "source": [
    "## Method 2\n",
    "#### Linear search is one of the simplest searching algorithms, and the easiest to understand. \n",
    "\n",
    "#### The algorithm consists of iterating over an array and returning the index of the first occurrence of an item once it is found:\n",
    "\n",
    "#### The time complexity of linear search is O(n), meaning that the time taken to execute increases with the number of items in our input list\n",
    "#### Linear search is a good fit for when we need to find the first occurrence of an item in an unsorted collection because unlike most other search algorithms, it does not require that a collection be sorted before searching begins."
   ]
  },
  {
   "cell_type": "code",
   "execution_count": null,
   "metadata": {},
   "outputs": [],
   "source": [
    "a = [1,2,1,4,5,6,3,2,1,4,5,6,8,7,4,5,6,2,5,8,7,4,5,6,3,2,1,4]\n",
    "flag = False\n",
    "n = int(input(\"Enter the number to be searched in the list: \"))\n",
    "for i in range(0, len(a)):\n",
    "    if a[i] == n:\n",
    "        print(\"Element:\",n, \"found at position:\",i)\n",
    "        flag = True\n",
    "        break\n",
    "        \n",
    "if flag == False:\n",
    "    print(\"Element\",n,\"isn't present\")"
   ]
  },
  {
   "cell_type": "markdown",
   "metadata": {},
   "source": [
    "# Method 3\n",
    "####  Binary search follows a divide and conquer methodology. It is faster than linear search but requires that the array be sorted before the algorithm is executed.\n",
    "#### If mid is the element we are looking for (best case), we return its index.\n",
    "#### If not, we identify which side of mid val is more likely to be on based on whether val is smaller or greater than mid, and discard the other side of the array.\n",
    "#### We then recursively or iteratively follow the same steps, choosing a new value for mid, comparing it with val and discarding half of the possible matches in each iteration of the algorithm."
   ]
  },
  {
   "cell_type": "code",
   "execution_count": 18,
   "metadata": {},
   "outputs": [
    {
     "name": "stdout",
     "output_type": "stream",
     "text": [
      "Not Found\n"
     ]
    }
   ],
   "source": [
    "n = 7\n",
    "a=[2,1,4,5]\n",
    "flag = False\n",
    "\n",
    "#step 1: sort the array in ascending order\n",
    "a = sorted(a)\n",
    "\n",
    "# step 2: find the let and right indexes\n",
    "left = 0\n",
    "right = len(a) - 1\n",
    "mid = 0\n",
    "\n",
    "# step 3: Now see which part of array we have to search in:\n",
    "# based on the middle number\n",
    "# Example if the number we are searching is greater than the middle number,\n",
    "# we will look into right side of middle index and vice versa\n",
    "\n",
    "while left <= right:\n",
    "    mid = (left+right)//2\n",
    "    if a[mid] == n:\n",
    "        print(\"Element:\",n,\"Found\")\n",
    "        flag = True\n",
    "    elif n>a[mid]:\n",
    "        left = mid + 1\n",
    "    elif n<a[mid]:\n",
    "        right = mid - 1\n",
    "if flag == False:\n",
    "    print(\"Not Found\")"
   ]
  },
  {
   "cell_type": "code",
   "execution_count": null,
   "metadata": {},
   "outputs": [],
   "source": []
  }
 ],
 "metadata": {
  "kernelspec": {
   "display_name": "Python 3",
   "language": "python",
   "name": "python3"
  },
  "language_info": {
   "codemirror_mode": {
    "name": "ipython",
    "version": 3
   },
   "file_extension": ".py",
   "mimetype": "text/x-python",
   "name": "python",
   "nbconvert_exporter": "python",
   "pygments_lexer": "ipython3",
   "version": "3.8.5"
  }
 },
 "nbformat": 4,
 "nbformat_minor": 4
}
